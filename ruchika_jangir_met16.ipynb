{
  "nbformat": 4,
  "nbformat_minor": 0,
  "metadata": {
    "colab": {
      "name": "ruchika.jangir.met16",
      "provenance": [],
      "collapsed_sections": [],
      "toc_visible": true,
      "authorship_tag": "ABX9TyM+iPI7EcljsETN2FDBtVmm",
      "include_colab_link": true
    },
    "kernelspec": {
      "name": "python3",
      "display_name": "Python 3"
    }
  },
  "cells": [
    {
      "cell_type": "markdown",
      "metadata": {
        "id": "view-in-github",
        "colab_type": "text"
      },
      "source": [
        "<a href=\"https://colab.research.google.com/github/ruchikajangid/Appliance-Energy-Prediction/blob/master/ruchika_jangir_met16.ipynb\" target=\"_parent\"><img src=\"https://colab.research.google.com/assets/colab-badge.svg\" alt=\"Open In Colab\"/></a>"
      ]
    },
    {
      "cell_type": "code",
      "metadata": {
        "id": "bZAf3u499XYD",
        "colab_type": "code",
        "outputId": "edc2915e-69dd-4b1e-a2b6-53378584b087",
        "colab": {
          "base_uri": "https://localhost:8080/",
          "height": 50
        }
      },
      "source": [
        "import pandas as pd\n",
        "import numpy as np\n",
        "import re\n",
        "import nltk\n",
        "nltk.download('punkt')\n",
        "from nltk.corpus import stopwords\n",
        "from sklearn import metrics\n",
        "from sklearn.model_selection import train_test_split\n",
        "from bs4 import BeautifulSoup\n",
        "from textblob import TextBlob\n",
        "from nltk.stem import PorterStemmer"
      ],
      "execution_count": 1,
      "outputs": [
        {
          "output_type": "stream",
          "text": [
            "[nltk_data] Downloading package punkt to /root/nltk_data...\n",
            "[nltk_data]   Unzipping tokenizers/punkt.zip.\n"
          ],
          "name": "stdout"
        }
      ]
    },
    {
      "cell_type": "markdown",
      "metadata": {
        "id": "PISUwX9ax0H8",
        "colab_type": "text"
      },
      "source": [
        "**Training and Testing Data**"
      ]
    },
    {
      "cell_type": "code",
      "metadata": {
        "id": "PZXRKqw59289",
        "colab_type": "code",
        "colab": {}
      },
      "source": [
        "train= pd.read_excel('tag_identification_dataset.xlsx')"
      ],
      "execution_count": 0,
      "outputs": []
    },
    {
      "cell_type": "code",
      "metadata": {
        "id": "IuCF7vSW-HHy",
        "colab_type": "code",
        "colab": {}
      },
      "source": [
        "test= pd.read_excel('test.xlsx')"
      ],
      "execution_count": 0,
      "outputs": []
    },
    {
      "cell_type": "code",
      "metadata": {
        "id": "K8O_CXLu-JVp",
        "colab_type": "code",
        "outputId": "e80fbf25-2a42-46cc-9563-6a2280672f5b",
        "colab": {
          "base_uri": "https://localhost:8080/",
          "height": 34
        }
      },
      "source": [
        "len(test)"
      ],
      "execution_count": 4,
      "outputs": [
        {
          "output_type": "execute_result",
          "data": {
            "text/plain": [
              "34"
            ]
          },
          "metadata": {
            "tags": []
          },
          "execution_count": 4
        }
      ]
    },
    {
      "cell_type": "code",
      "metadata": {
        "id": "DZ-8MhNN-13Q",
        "colab_type": "code",
        "outputId": "b865e1a5-6fab-4039-bf5c-6d71d0b51bd6",
        "colab": {
          "base_uri": "https://localhost:8080/",
          "height": 34
        }
      },
      "source": [
        "len(train)"
      ],
      "execution_count": 5,
      "outputs": [
        {
          "output_type": "execute_result",
          "data": {
            "text/plain": [
              "107"
            ]
          },
          "metadata": {
            "tags": []
          },
          "execution_count": 5
        }
      ]
    },
    {
      "cell_type": "code",
      "metadata": {
        "id": "SXCj6Kdu_Zxi",
        "colab_type": "code",
        "outputId": "06eecaa8-14ff-4b9a-e13e-59a6714989d2",
        "colab": {
          "base_uri": "https://localhost:8080/",
          "height": 195
        }
      },
      "source": [
        "train.head()"
      ],
      "execution_count": 6,
      "outputs": [
        {
          "output_type": "execute_result",
          "data": {
            "text/html": [
              "<div>\n",
              "<style scoped>\n",
              "    .dataframe tbody tr th:only-of-type {\n",
              "        vertical-align: middle;\n",
              "    }\n",
              "\n",
              "    .dataframe tbody tr th {\n",
              "        vertical-align: top;\n",
              "    }\n",
              "\n",
              "    .dataframe thead th {\n",
              "        text-align: right;\n",
              "    }\n",
              "</style>\n",
              "<table border=\"1\" class=\"dataframe\">\n",
              "  <thead>\n",
              "    <tr style=\"text-align: right;\">\n",
              "      <th></th>\n",
              "      <th>post_id</th>\n",
              "      <th>question</th>\n",
              "      <th>user_stage</th>\n",
              "      <th>tag</th>\n",
              "    </tr>\n",
              "  </thead>\n",
              "  <tbody>\n",
              "    <tr>\n",
              "      <th>0</th>\n",
              "      <td>1</td>\n",
              "      <td>Alhamdulilh,  blessed with beautiful baby girl...</td>\n",
              "      <td>pregnant</td>\n",
              "      <td>Announcements&amp;Celebrations</td>\n",
              "    </tr>\n",
              "    <tr>\n",
              "      <th>1</th>\n",
              "      <td>2</td>\n",
              "      <td>Breastfeeding mother ko chai pini chaiye usse ...</td>\n",
              "      <td>mother</td>\n",
              "      <td>General Baby</td>\n",
              "    </tr>\n",
              "    <tr>\n",
              "      <th>2</th>\n",
              "      <td>3</td>\n",
              "      <td>Hii all as I am preganent with twins on coming...</td>\n",
              "      <td>pregnant</td>\n",
              "      <td>General Pregnancy</td>\n",
              "    </tr>\n",
              "    <tr>\n",
              "      <th>3</th>\n",
              "      <td>4</td>\n",
              "      <td>Mujhy mild cramp sa feeling Hai lower main aur...</td>\n",
              "      <td>pregnant</td>\n",
              "      <td>General Pregnancy</td>\n",
              "    </tr>\n",
              "    <tr>\n",
              "      <th>4</th>\n",
              "      <td>5</td>\n",
              "      <td>Can I drink lion dates syrup</td>\n",
              "      <td>pregnant</td>\n",
              "      <td>Diet&amp;Nutrition</td>\n",
              "    </tr>\n",
              "  </tbody>\n",
              "</table>\n",
              "</div>"
            ],
            "text/plain": [
              "   post_id  ...                         tag\n",
              "0        1  ...  Announcements&Celebrations\n",
              "1        2  ...                General Baby\n",
              "2        3  ...           General Pregnancy\n",
              "3        4  ...           General Pregnancy\n",
              "4        5  ...              Diet&Nutrition\n",
              "\n",
              "[5 rows x 4 columns]"
            ]
          },
          "metadata": {
            "tags": []
          },
          "execution_count": 6
        }
      ]
    },
    {
      "cell_type": "code",
      "metadata": {
        "id": "M3nLRTwnEBlc",
        "colab_type": "code",
        "outputId": "964e0efb-c753-4819-f738-c20126671aef",
        "colab": {
          "base_uri": "https://localhost:8080/",
          "height": 195
        }
      },
      "source": [
        "test.head()"
      ],
      "execution_count": 7,
      "outputs": [
        {
          "output_type": "execute_result",
          "data": {
            "text/html": [
              "<div>\n",
              "<style scoped>\n",
              "    .dataframe tbody tr th:only-of-type {\n",
              "        vertical-align: middle;\n",
              "    }\n",
              "\n",
              "    .dataframe tbody tr th {\n",
              "        vertical-align: top;\n",
              "    }\n",
              "\n",
              "    .dataframe thead th {\n",
              "        text-align: right;\n",
              "    }\n",
              "</style>\n",
              "<table border=\"1\" class=\"dataframe\">\n",
              "  <thead>\n",
              "    <tr style=\"text-align: right;\">\n",
              "      <th></th>\n",
              "      <th>post_id</th>\n",
              "      <th>question</th>\n",
              "      <th>user_stage</th>\n",
              "      <th>tag</th>\n",
              "    </tr>\n",
              "  </thead>\n",
              "  <tbody>\n",
              "    <tr>\n",
              "      <th>0</th>\n",
              "      <td>75</td>\n",
              "      <td>Unable to upload my profile pic</td>\n",
              "      <td>pregnant</td>\n",
              "      <td>NaN</td>\n",
              "    </tr>\n",
              "    <tr>\n",
              "      <th>1</th>\n",
              "      <td>90</td>\n",
              "      <td>I dont have any problm in morning whole day bu...</td>\n",
              "      <td>pregnant</td>\n",
              "      <td>NaN</td>\n",
              "    </tr>\n",
              "    <tr>\n",
              "      <th>2</th>\n",
              "      <td>94</td>\n",
              "      <td>Hi I am not conformed the pregnancy but I am e...</td>\n",
              "      <td>pregnant</td>\n",
              "      <td>NaN</td>\n",
              "    </tr>\n",
              "    <tr>\n",
              "      <th>3</th>\n",
              "      <td>102</td>\n",
              "      <td>Best fresh fruit juice for six months old baby</td>\n",
              "      <td>mother</td>\n",
              "      <td>NaN</td>\n",
              "    </tr>\n",
              "    <tr>\n",
              "      <th>4</th>\n",
              "      <td>108</td>\n",
              "      <td>Which storage bag is good to store breast milk...</td>\n",
              "      <td>mother</td>\n",
              "      <td>NaN</td>\n",
              "    </tr>\n",
              "  </tbody>\n",
              "</table>\n",
              "</div>"
            ],
            "text/plain": [
              "   post_id                                           question user_stage  tag\n",
              "0       75                    Unable to upload my profile pic   pregnant  NaN\n",
              "1       90  I dont have any problm in morning whole day bu...   pregnant  NaN\n",
              "2       94  Hi I am not conformed the pregnancy but I am e...   pregnant  NaN\n",
              "3      102     Best fresh fruit juice for six months old baby     mother  NaN\n",
              "4      108  Which storage bag is good to store breast milk...     mother  NaN"
            ]
          },
          "metadata": {
            "tags": []
          },
          "execution_count": 7
        }
      ]
    },
    {
      "cell_type": "markdown",
      "metadata": {
        "id": "uQUP4M5F5Z3c",
        "colab_type": "text"
      },
      "source": [
        "**Data Visualization**"
      ]
    },
    {
      "cell_type": "code",
      "metadata": {
        "id": "9kcQe-4MFwby",
        "colab_type": "code",
        "outputId": "b295a622-1da4-4f2b-8133-086d00f4c7c2",
        "colab": {
          "base_uri": "https://localhost:8080/",
          "height": 530
        }
      },
      "source": [
        "import matplotlib.pyplot as plt\n",
        "fig = plt.figure(figsize=(8,6))\n",
        "train.groupby('tag').question.count().plot.bar(ylim=0)\n",
        "plt.show()"
      ],
      "execution_count": 8,
      "outputs": [
        {
          "output_type": "display_data",
          "data": {
            "image/png": "[encoded data removed]",
            "text/plain": [
              "<Figure size 576x432 with 1 Axes>"
            ]
          },
          "metadata": {
            "tags": []
          }
        }
      ]
    },
    {
      "cell_type": "markdown",
      "metadata": {
        "id": "sIqSnoS2yVu_",
        "colab_type": "text"
      },
      "source": [
        "**Text Preprocessing and Cleaning**"
      ]
    },
    {
      "cell_type": "code",
      "metadata": {
        "id": "Z7DPv7X-F9lz",
        "colab_type": "code",
        "colab": {
          "base_uri": "https://localhost:8080/",
          "height": 50
        },
        "outputId": "c5fcb778-87a9-40be-a09c-6f1cd721d234"
      },
      "source": [
        "nltk.download(\"stopwords\")\n",
        "REPLACE_BY_SPACE_RE = re.compile('[/(){}\\[\\]\\|@,;]')\n",
        "BAD_SYMBOLS_RE = re.compile('[^0-9a-z #+_]')\n",
        "STOPWORDS = set(stopwords.words('english'))\n",
        "\n",
        "def clean_text(text):\n",
        "    text = BeautifulSoup(text, \"lxml\").text # HTML decoding\n",
        "    text = text.lower() # lowercase text\n",
        "    text = REPLACE_BY_SPACE_RE.sub(' ', text) # replace REPLACE_BY_SPACE_RE symbols by space in text\n",
        "    text = BAD_SYMBOLS_RE.sub('', text) # delete symbols which are in BAD_SYMBOLS_RE from text\n",
        "    text = ' '.join(word for word in text.split() if word not in STOPWORDS) # delete stopwors from text\n",
        "    return text\n",
        "    \n",
        "train['question'] = train['question'].apply(clean_text)\n",
        "test['question']= test['question'].apply(clean_text)"
      ],
      "execution_count": 10,
      "outputs": [
        {
          "output_type": "stream",
          "text": [
            "[nltk_data] Downloading package stopwords to /root/nltk_data...\n",
            "[nltk_data]   Unzipping corpora/stopwords.zip.\n"
          ],
          "name": "stdout"
        }
      ]
    },
    {
      "cell_type": "code",
      "metadata": {
        "id": "IZdQVAbRXS_H",
        "colab_type": "code",
        "outputId": "0c1ed665-36da-49be-ce54-8e05e22d8d7e",
        "colab": {
          "base_uri": "https://localhost:8080/",
          "height": 605
        }
      },
      "source": [
        "train['question'][:].apply(lambda x: str(TextBlob(x).correct()))\n",
        "test['question'][:].apply(lambda x: str(TextBlob(x).correct()))"
      ],
      "execution_count": 11,
      "outputs": [
        {
          "output_type": "execute_result",
          "data": {
            "text/plain": [
              "0                            unable unload profile pick\n",
              "1     dont problem morning whole day got sleep a may...\n",
              "2     hi confirmed pregnancy expecting baby month on...\n",
              "3            best fresh fruit juice six months old baby\n",
              "4     storage bag good store breast milk long time s...\n",
              "5     mere rd march to and anniversary had mere husb...\n",
              "6     in with week pregnant shall take colic acid ir...\n",
              "7     hello today git know baby two cord neck do sai...\n",
              "8     hello funds mere bet 4 months i had ab mere ra...\n",
              "9            29 week one day ka matas with week started\n",
              "10    lets discuss symptoms month pregnancymine glow...\n",
              "11                                   nehal_shah1 babies\n",
              "12    since morning feeling metallic taste tongue n ...\n",
              "13    suffering gestational diabetes please share ve...\n",
              "14    hello allay rat to mere mere husband se but la...\n",
              "15    hey mommiees give baby cereals 2 times dayappl...\n",
              "16    thank god give two new life lines lifemost pre...\n",
              "17    his guy err alesha mere husband se late rest h...\n",
              "18    today am blessed baby bosnia normal delivery t...\n",
              "19    fellow ladies r ugh all maine ah ah mere jewel...\n",
              "20                                 books read pregnancy\n",
              "21            haven got natural malo products get prize\n",
              "22    today observed little blood baby naval in tens...\n",
              "23    hello moss mere c see to 1 month 20 days ho ga...\n",
              "24    his mere baby to guam our anti had ka ye cerea...\n",
              "25             accidentally touch report pregnancy undo\n",
              "26                        blessed baby girl via section\n",
              "27    page update ni ho rah h pure questions show ho...\n",
              "28    hello sister th month n done growth scan today...\n",
              "29                    pus provide option login computer\n",
              "30                           anna remove mobile profile\n",
              "31                                        video playing\n",
              "32    blessed baby boy normal delivery than malo mou...\n",
              "33                           unable unload profile pick\n",
              "Name: question, dtype: object"
            ]
          },
          "metadata": {
            "tags": []
          },
          "execution_count": 11
        }
      ]
    },
    {
      "cell_type": "code",
      "metadata": {
        "id": "AVMR_-iaY5Ub",
        "colab_type": "code",
        "outputId": "b651e84e-6a12-4ad5-a0b8-91c6f434abea",
        "colab": {
          "base_uri": "https://localhost:8080/",
          "height": 34
        }
      },
      "source": [
        "TextBlob(train['question'][1]).words"
      ],
      "execution_count": 12,
      "outputs": [
        {
          "output_type": "execute_result",
          "data": {
            "text/plain": [
              "WordList(['breastfeeding', 'mother', 'ko', 'chai', 'pini', 'chaiye', 'usse', 'bache', 'ko', 'gas', 'hogi'])"
            ]
          },
          "metadata": {
            "tags": []
          },
          "execution_count": 12
        }
      ]
    },
    {
      "cell_type": "code",
      "metadata": {
        "id": "Vh7aWXE1ZQXo",
        "colab_type": "code",
        "outputId": "ba5d43ec-efb9-4d03-ee9d-758f5dd14146",
        "colab": {
          "base_uri": "https://localhost:8080/",
          "height": 605
        }
      },
      "source": [
        "st = PorterStemmer()\n",
        "train['question'][:].apply(lambda x: \" \".join([st.stem(word) for word in x.split()]))\n",
        "test['question'][:].apply(lambda x: \" \".join([st.stem(word) for word in x.split()]))"
      ],
      "execution_count": 13,
      "outputs": [
        {
          "output_type": "execute_result",
          "data": {
            "text/plain": [
              "0                               unabl upload profil pic\n",
              "1     dont problm morn whole day got sleep ya mai le...\n",
              "2     hi conform pregnanc expect babi month one comp...\n",
              "3              best fresh fruit juic six month old babi\n",
              "4     storag bag good store breast milk long time so...\n",
              "5     mera 3rd march ko 2nd anniversari hai mere hus...\n",
              "6     im 10th week pregnant shall take folic acid ir...\n",
              "7     hello today git know babi two cord neck doc sa...\n",
              "8     hello frnd meri beti 4 month ki hai ab mere ha...\n",
              "9             29 week one day ka matlab 30th week start\n",
              "10    let discuss symptom 6month pregnancymin glow s...\n",
              "11                                     nehal_shah1 babi\n",
              "12    sinc morn feel metal tast tongu n pelvic pain ...\n",
              "13    suffer gestat diabet pleas share veget juic sa...\n",
              "14    hello allkal raat ko meri mere husband se bhut...\n",
              "15    heya mommie give babi cerelac 2 time dayappl w...\n",
              "16    thanku god give two new life line lifemost pre...\n",
              "17    hii guyz yrr hamesha mere husband se ladt reht...\n",
              "18    today 5am bless babi boyvia normal deliveri th...\n",
              "19    hellow ladi r uhh awll main abhi abhi mera jew...\n",
              "20                                   book read pregnanc\n",
              "21              havent got natur mylo product get prize\n",
              "22    today observ littl blood babi naval im tens pl...\n",
              "23    hello mom mere c sec ko 1 month 20 day ho gayi...\n",
              "24    hii mere babi ko zukam aur kansi hai kya ye ce...\n",
              "25                  accident touch report pregnanc undo\n",
              "26                          bless babi girl via section\n",
              "27    page updat nhi ho raha h puran question show h...\n",
              "28    hello sister 7th month n done growth scan toda...\n",
              "29                        pl provid option login comput\n",
              "30                             wanna remov mobil profil\n",
              "31                                           video play\n",
              "32    blass babi boy normal deliveri than mylo momsy...\n",
              "33                              unabl upload profil pic\n",
              "Name: question, dtype: object"
            ]
          },
          "metadata": {
            "tags": []
          },
          "execution_count": 13
        }
      ]
    },
    {
      "cell_type": "code",
      "metadata": {
        "id": "BLCQD00qZlkq",
        "colab_type": "code",
        "outputId": "3a24cbbf-3156-4332-d603-3399b53a6919",
        "colab": {
          "base_uri": "https://localhost:8080/",
          "height": 101
        }
      },
      "source": [
        "TextBlob(train['question'][0]).ngrams(2)      #bigrams"
      ],
      "execution_count": 14,
      "outputs": [
        {
          "output_type": "execute_result",
          "data": {
            "text/plain": [
              "[WordList(['alhamdulilh', 'blessed']),\n",
              " WordList(['blessed', 'beautiful']),\n",
              " WordList(['beautiful', 'baby']),\n",
              " WordList(['baby', 'girl']),\n",
              " WordList(['girl', 'cesarean'])]"
            ]
          },
          "metadata": {
            "tags": []
          },
          "execution_count": 14
        }
      ]
    },
    {
      "cell_type": "code",
      "metadata": {
        "id": "31cQq9s_y5ql",
        "colab_type": "code",
        "outputId": "a2b81e59-31cd-43af-9b44-6ee1377ce080",
        "colab": {
          "base_uri": "https://localhost:8080/",
          "height": 67
        }
      },
      "source": [
        "TextBlob(test['question'][0]).ngrams(2)  #bigrams"
      ],
      "execution_count": 15,
      "outputs": [
        {
          "output_type": "execute_result",
          "data": {
            "text/plain": [
              "[WordList(['unable', 'upload']),\n",
              " WordList(['upload', 'profile']),\n",
              " WordList(['profile', 'pic'])]"
            ]
          },
          "metadata": {
            "tags": []
          },
          "execution_count": 15
        }
      ]
    },
    {
      "cell_type": "code",
      "metadata": {
        "id": "A5pvKUvxZXnY",
        "colab_type": "code",
        "outputId": "f9452f33-f32e-432a-824e-3d025c692ae5",
        "colab": {
          "base_uri": "https://localhost:8080/",
          "height": 151
        }
      },
      "source": [
        "import nltk\n",
        "nltk.download('wordnet')\n",
        "from textblob import Word\n",
        "train['question'] = train['question'].apply(lambda x: \" \".join([Word(word).lemmatize() for word in x.split()])) #lemmatization\n",
        "train['question'].head()"
      ],
      "execution_count": 16,
      "outputs": [
        {
          "output_type": "stream",
          "text": [
            "[nltk_data] Downloading package wordnet to /root/nltk_data...\n",
            "[nltk_data]   Unzipping corpora/wordnet.zip.\n"
          ],
          "name": "stdout"
        },
        {
          "output_type": "execute_result",
          "data": {
            "text/plain": [
              "0     alhamdulilh blessed beautiful baby girl cesarean\n",
              "1    breastfeeding mother ko chai pini chaiye usse ...\n",
              "2    hii preganent twin coming 27 feb dr suggest c ...\n",
              "3    mujhy mild cramp sa feeling hai lower main aur...\n",
              "4                                drink lion date syrup\n",
              "Name: question, dtype: object"
            ]
          },
          "metadata": {
            "tags": []
          },
          "execution_count": 16
        }
      ]
    },
    {
      "cell_type": "code",
      "metadata": {
        "id": "VTKnw2OHzINd",
        "colab_type": "code",
        "outputId": "07c666a3-9157-4117-9a93-a0ac905622b0",
        "colab": {
          "base_uri": "https://localhost:8080/",
          "height": 118
        }
      },
      "source": [
        "test['question'] = test['question'].apply(lambda x: \" \".join([Word(word).lemmatize() for word in x.split()]))\n",
        "test['question'].head()"
      ],
      "execution_count": 17,
      "outputs": [
        {
          "output_type": "execute_result",
          "data": {
            "text/plain": [
              "0                            unable upload profile pic\n",
              "1    dont problm morning whole day got sleep ya mai...\n",
              "2    hi conformed pregnancy expecting baby month on...\n",
              "3            best fresh fruit juice six month old baby\n",
              "4    storage bag good store breast milk long time s...\n",
              "Name: question, dtype: object"
            ]
          },
          "metadata": {
            "tags": []
          },
          "execution_count": 17
        }
      ]
    },
    {
      "cell_type": "code",
      "metadata": {
        "id": "IKQUMrT5MjJg",
        "colab_type": "code",
        "outputId": "2d2755c2-5ffe-4c76-cabd-39bbb5d2bce3",
        "colab": {
          "base_uri": "https://localhost:8080/",
          "height": 195
        }
      },
      "source": [
        "train.head()"
      ],
      "execution_count": 18,
      "outputs": [
        {
          "output_type": "execute_result",
          "data": {
            "text/html": [
              "<div>\n",
              "<style scoped>\n",
              "    .dataframe tbody tr th:only-of-type {\n",
              "        vertical-align: middle;\n",
              "    }\n",
              "\n",
              "    .dataframe tbody tr th {\n",
              "        vertical-align: top;\n",
              "    }\n",
              "\n",
              "    .dataframe thead th {\n",
              "        text-align: right;\n",
              "    }\n",
              "</style>\n",
              "<table border=\"1\" class=\"dataframe\">\n",
              "  <thead>\n",
              "    <tr style=\"text-align: right;\">\n",
              "      <th></th>\n",
              "      <th>post_id</th>\n",
              "      <th>question</th>\n",
              "      <th>user_stage</th>\n",
              "      <th>tag</th>\n",
              "    </tr>\n",
              "  </thead>\n",
              "  <tbody>\n",
              "    <tr>\n",
              "      <th>0</th>\n",
              "      <td>1</td>\n",
              "      <td>alhamdulilh blessed beautiful baby girl cesarean</td>\n",
              "      <td>pregnant</td>\n",
              "      <td>Announcements&amp;Celebrations</td>\n",
              "    </tr>\n",
              "    <tr>\n",
              "      <th>1</th>\n",
              "      <td>2</td>\n",
              "      <td>breastfeeding mother ko chai pini chaiye usse ...</td>\n",
              "      <td>mother</td>\n",
              "      <td>General Baby</td>\n",
              "    </tr>\n",
              "    <tr>\n",
              "      <th>2</th>\n",
              "      <td>3</td>\n",
              "      <td>hii preganent twin coming 27 feb dr suggest c ...</td>\n",
              "      <td>pregnant</td>\n",
              "      <td>General Pregnancy</td>\n",
              "    </tr>\n",
              "    <tr>\n",
              "      <th>3</th>\n",
              "      <td>4</td>\n",
              "      <td>mujhy mild cramp sa feeling hai lower main aur...</td>\n",
              "      <td>pregnant</td>\n",
              "      <td>General Pregnancy</td>\n",
              "    </tr>\n",
              "    <tr>\n",
              "      <th>4</th>\n",
              "      <td>5</td>\n",
              "      <td>drink lion date syrup</td>\n",
              "      <td>pregnant</td>\n",
              "      <td>Diet&amp;Nutrition</td>\n",
              "    </tr>\n",
              "  </tbody>\n",
              "</table>\n",
              "</div>"
            ],
            "text/plain": [
              "   post_id  ...                         tag\n",
              "0        1  ...  Announcements&Celebrations\n",
              "1        2  ...                General Baby\n",
              "2        3  ...           General Pregnancy\n",
              "3        4  ...           General Pregnancy\n",
              "4        5  ...              Diet&Nutrition\n",
              "\n",
              "[5 rows x 4 columns]"
            ]
          },
          "metadata": {
            "tags": []
          },
          "execution_count": 18
        }
      ]
    },
    {
      "cell_type": "code",
      "metadata": {
        "id": "kn2J3_znO943",
        "colab_type": "code",
        "outputId": "9fdbc5f6-3360-4048-93f7-d13240d69f8a",
        "colab": {
          "base_uri": "https://localhost:8080/",
          "height": 34
        }
      },
      "source": [
        "train['question'].apply(lambda x: len(x.split(' '))).sum()"
      ],
      "execution_count": 19,
      "outputs": [
        {
          "output_type": "execute_result",
          "data": {
            "text/plain": [
              "1967"
            ]
          },
          "metadata": {
            "tags": []
          },
          "execution_count": 19
        }
      ]
    },
    {
      "cell_type": "markdown",
      "metadata": {
        "id": "JDMifwjOzciP",
        "colab_type": "text"
      },
      "source": [
        "**Train-test Split**"
      ]
    },
    {
      "cell_type": "code",
      "metadata": {
        "id": "9pe_opLesddS",
        "colab_type": "code",
        "colab": {}
      },
      "source": [
        "X = train.question\n",
        "y = train.tag\n",
        "X_train, X_test, y_train, y_test = train_test_split(X, y, test_size=0.3, random_state = 42)"
      ],
      "execution_count": 0,
      "outputs": []
    },
    {
      "cell_type": "markdown",
      "metadata": {
        "id": "2wsh_WhNziQU",
        "colab_type": "text"
      },
      "source": [
        "**Classification**"
      ]
    },
    {
      "cell_type": "code",
      "metadata": {
        "id": "mrcsvn0Tr0Dg",
        "colab_type": "code",
        "outputId": "3ea4e7be-9beb-4ee6-f577-9e75b1c794f8",
        "colab": {
          "base_uri": "https://localhost:8080/",
          "height": 34
        }
      },
      "source": [
        "from sklearn.pipeline import Pipeline\n",
        "from sklearn.linear_model import SGDClassifier\n",
        "from sklearn.feature_extraction.text import CountVectorizer, TfidfVectorizer\n",
        "from sklearn.feature_extraction.text import TfidfTransformer\n",
        "from sklearn.metrics import accuracy_score, confusion_matrix\n",
        "\n",
        "sgd = Pipeline([('vect', CountVectorizer()),\n",
        "                ('tfidf', TfidfTransformer()),\n",
        "                ('clf', SGDClassifier(loss='hinge', penalty='l2',alpha=1e-3, random_state=42, max_iter=5, tol=None)),\n",
        "               ])\n",
        "sgd.fit(X_train, y_train)\n",
        "\n",
        "\n",
        "\n",
        "y_pred = sgd.predict(X_test)\n",
        "\n",
        "print('accuracy %s' % accuracy_score(y_pred, y_test))"
      ],
      "execution_count": 22,
      "outputs": [
        {
          "output_type": "stream",
          "text": [
            "accuracy 0.48484848484848486\n"
          ],
          "name": "stdout"
        }
      ]
    },
    {
      "cell_type": "code",
      "metadata": {
        "id": "A0Vq7B0dtC69",
        "colab_type": "code",
        "outputId": "4d537903-269b-4d22-beae-4b455fe3075d",
        "colab": {
          "base_uri": "https://localhost:8080/",
          "height": 34
        }
      },
      "source": [
        "from sklearn.linear_model import LogisticRegression\n",
        "\n",
        "logreg = Pipeline([('vect', CountVectorizer()),\n",
        "                ('tfidf', TfidfTransformer()),\n",
        "                ('clf', LogisticRegression(n_jobs=1, C=1e5)),\n",
        "               ])\n",
        "logreg.fit(X_train, y_train)\n",
        "\n",
        "\n",
        "\n",
        "y_pred = logreg.predict(X_test)\n",
        "\n",
        "print('accuracy %s' % accuracy_score(y_pred, y_test))"
      ],
      "execution_count": 23,
      "outputs": [
        {
          "output_type": "stream",
          "text": [
            "accuracy 0.45454545454545453\n"
          ],
          "name": "stdout"
        }
      ]
    },
    {
      "cell_type": "markdown",
      "metadata": {
        "id": "9p7TBblt66Gz",
        "colab_type": "text"
      },
      "source": [
        "**Prediction**"
      ]
    },
    {
      "cell_type": "code",
      "metadata": {
        "id": "m6_BgKIcVx37",
        "colab_type": "code",
        "colab": {}
      },
      "source": [
        "y_pred= sgd.predict(test['question'])"
      ],
      "execution_count": 0,
      "outputs": []
    },
    {
      "cell_type": "code",
      "metadata": {
        "id": "Q-bRHGAkWLqa",
        "colab_type": "code",
        "outputId": "b953fc2c-0c71-476f-85e8-50904bec4270",
        "colab": {
          "base_uri": "https://localhost:8080/",
          "height": 218
        }
      },
      "source": [
        "y_pred"
      ],
      "execution_count": 25,
      "outputs": [
        {
          "output_type": "execute_result",
          "data": {
            "text/plain": [
              "array(['MyloSupport', 'General Pregnancy', 'Gossip', 'General Baby',\n",
              "       'General Baby', 'Diet&Nutrition', 'General Pregnancy',\n",
              "       'General Pregnancy', 'Diet&Nutrition', 'General Pregnancy',\n",
              "       'General Pregnancy', 'General Baby', 'General Pregnancy',\n",
              "       'Diet&Nutrition', 'Love&Relationships', 'General Baby',\n",
              "       'Announcements&Celebrations', 'Love&Relationships',\n",
              "       'Announcements&Celebrations', 'General Pregnancy',\n",
              "       'General Pregnancy', 'MyloSupport', 'General Baby',\n",
              "       'General Pregnancy', 'General Pregnancy', 'General Pregnancy',\n",
              "       'Announcements&Celebrations', 'MyloSupport', 'General Pregnancy',\n",
              "       'General Pregnancy', 'Love&Relationships', 'MyloSupport',\n",
              "       'Announcements&Celebrations', 'MyloSupport'], dtype='<U26')"
            ]
          },
          "metadata": {
            "tags": []
          },
          "execution_count": 25
        }
      ]
    },
    {
      "cell_type": "code",
      "metadata": {
        "id": "2kMMSzr7WMsn",
        "colab_type": "code",
        "colab": {}
      },
      "source": [
        "test['tag']= y_pred"
      ],
      "execution_count": 0,
      "outputs": []
    },
    {
      "cell_type": "code",
      "metadata": {
        "id": "Kv4lwRXKWTWi",
        "colab_type": "code",
        "outputId": "f74d4cb2-d90d-4fc4-f2e5-5351b0cb310a",
        "colab": {
          "base_uri": "https://localhost:8080/",
          "height": 1000
        }
      },
      "source": [
        "test"
      ],
      "execution_count": 27,
      "outputs": [
        {
          "output_type": "execute_result",
          "data": {
            "text/html": [
              "<div>\n",
              "<style scoped>\n",
              "    .dataframe tbody tr th:only-of-type {\n",
              "        vertical-align: middle;\n",
              "    }\n",
              "\n",
              "    .dataframe tbody tr th {\n",
              "        vertical-align: top;\n",
              "    }\n",
              "\n",
              "    .dataframe thead th {\n",
              "        text-align: right;\n",
              "    }\n",
              "</style>\n",
              "<table border=\"1\" class=\"dataframe\">\n",
              "  <thead>\n",
              "    <tr style=\"text-align: right;\">\n",
              "      <th></th>\n",
              "      <th>post_id</th>\n",
              "      <th>question</th>\n",
              "      <th>user_stage</th>\n",
              "      <th>tag</th>\n",
              "    </tr>\n",
              "  </thead>\n",
              "  <tbody>\n",
              "    <tr>\n",
              "      <th>0</th>\n",
              "      <td>75</td>\n",
              "      <td>unable upload profile pic</td>\n",
              "      <td>pregnant</td>\n",
              "      <td>MyloSupport</td>\n",
              "    </tr>\n",
              "    <tr>\n",
              "      <th>1</th>\n",
              "      <td>90</td>\n",
              "      <td>dont problm morning whole day got sleep ya mai...</td>\n",
              "      <td>pregnant</td>\n",
              "      <td>General Pregnancy</td>\n",
              "    </tr>\n",
              "    <tr>\n",
              "      <th>2</th>\n",
              "      <td>94</td>\n",
              "      <td>hi conformed pregnancy expecting baby month on...</td>\n",
              "      <td>pregnant</td>\n",
              "      <td>Gossip</td>\n",
              "    </tr>\n",
              "    <tr>\n",
              "      <th>3</th>\n",
              "      <td>102</td>\n",
              "      <td>best fresh fruit juice six month old baby</td>\n",
              "      <td>mother</td>\n",
              "      <td>General Baby</td>\n",
              "    </tr>\n",
              "    <tr>\n",
              "      <th>4</th>\n",
              "      <td>108</td>\n",
              "      <td>storage bag good store breast milk long time s...</td>\n",
              "      <td>mother</td>\n",
              "      <td>General Baby</td>\n",
              "    </tr>\n",
              "    <tr>\n",
              "      <th>5</th>\n",
              "      <td>109</td>\n",
              "      <td>mera 3rd march ko 2nd anniversary hai mere hus...</td>\n",
              "      <td>ttc</td>\n",
              "      <td>Diet&amp;Nutrition</td>\n",
              "    </tr>\n",
              "    <tr>\n",
              "      <th>6</th>\n",
              "      <td>112</td>\n",
              "      <td>im 10th week pregnant shall take folic acid ir...</td>\n",
              "      <td>pregnant</td>\n",
              "      <td>General Pregnancy</td>\n",
              "    </tr>\n",
              "    <tr>\n",
              "      <th>7</th>\n",
              "      <td>113</td>\n",
              "      <td>hello today git know baby two cord neck doc sa...</td>\n",
              "      <td>mother</td>\n",
              "      <td>General Pregnancy</td>\n",
              "    </tr>\n",
              "    <tr>\n",
              "      <th>8</th>\n",
              "      <td>114</td>\n",
              "      <td>hello frnds meri beti 4 month ki hai ab mere h...</td>\n",
              "      <td>mother</td>\n",
              "      <td>Diet&amp;Nutrition</td>\n",
              "    </tr>\n",
              "    <tr>\n",
              "      <th>9</th>\n",
              "      <td>115</td>\n",
              "      <td>29 week one day ka matlab 30th week started</td>\n",
              "      <td>pregnant</td>\n",
              "      <td>General Pregnancy</td>\n",
              "    </tr>\n",
              "    <tr>\n",
              "      <th>10</th>\n",
              "      <td>117</td>\n",
              "      <td>let discus symptom 6month pregnancymine glowin...</td>\n",
              "      <td>pregnant</td>\n",
              "      <td>General Pregnancy</td>\n",
              "    </tr>\n",
              "    <tr>\n",
              "      <th>11</th>\n",
              "      <td>118</td>\n",
              "      <td>nehal_shah1 baby</td>\n",
              "      <td>mother</td>\n",
              "      <td>General Baby</td>\n",
              "    </tr>\n",
              "    <tr>\n",
              "      <th>12</th>\n",
              "      <td>119</td>\n",
              "      <td>since morning feeling metallic taste tongue n ...</td>\n",
              "      <td>pregnant</td>\n",
              "      <td>General Pregnancy</td>\n",
              "    </tr>\n",
              "    <tr>\n",
              "      <th>13</th>\n",
              "      <td>120</td>\n",
              "      <td>suffering gestational diabetes please share ve...</td>\n",
              "      <td>pregnant</td>\n",
              "      <td>Diet&amp;Nutrition</td>\n",
              "    </tr>\n",
              "    <tr>\n",
              "      <th>14</th>\n",
              "      <td>121</td>\n",
              "      <td>hello allkal raat ko meri mere husband se bhut...</td>\n",
              "      <td>pregnant</td>\n",
              "      <td>Love&amp;Relationships</td>\n",
              "    </tr>\n",
              "    <tr>\n",
              "      <th>15</th>\n",
              "      <td>122</td>\n",
              "      <td>heya mommiees give baby cerelac 2 time dayappl...</td>\n",
              "      <td>mother</td>\n",
              "      <td>General Baby</td>\n",
              "    </tr>\n",
              "    <tr>\n",
              "      <th>16</th>\n",
              "      <td>123</td>\n",
              "      <td>thanku god give two new life line lifemost pre...</td>\n",
              "      <td>mother</td>\n",
              "      <td>Announcements&amp;Celebrations</td>\n",
              "    </tr>\n",
              "    <tr>\n",
              "      <th>17</th>\n",
              "      <td>124</td>\n",
              "      <td>hii guyz yrr hamesha mere husband se ladte reh...</td>\n",
              "      <td>pregnant</td>\n",
              "      <td>Love&amp;Relationships</td>\n",
              "    </tr>\n",
              "    <tr>\n",
              "      <th>18</th>\n",
              "      <td>125</td>\n",
              "      <td>today 5am blessed baby boyvia normal delivery ...</td>\n",
              "      <td>mother</td>\n",
              "      <td>Announcements&amp;Celebrations</td>\n",
              "    </tr>\n",
              "    <tr>\n",
              "      <th>19</th>\n",
              "      <td>126</td>\n",
              "      <td>hellow lady r uhh awll maine abhi abhi mera je...</td>\n",
              "      <td>pregnant</td>\n",
              "      <td>General Pregnancy</td>\n",
              "    </tr>\n",
              "    <tr>\n",
              "      <th>20</th>\n",
              "      <td>128</td>\n",
              "      <td>book read pregnancy</td>\n",
              "      <td>pregnant</td>\n",
              "      <td>General Pregnancy</td>\n",
              "    </tr>\n",
              "    <tr>\n",
              "      <th>21</th>\n",
              "      <td>129</td>\n",
              "      <td>havent got natural mylo product get prize</td>\n",
              "      <td>mother</td>\n",
              "      <td>MyloSupport</td>\n",
              "    </tr>\n",
              "    <tr>\n",
              "      <th>22</th>\n",
              "      <td>130</td>\n",
              "      <td>today observed little blood baby naval im tens...</td>\n",
              "      <td>mother</td>\n",
              "      <td>General Baby</td>\n",
              "    </tr>\n",
              "    <tr>\n",
              "      <th>23</th>\n",
              "      <td>131</td>\n",
              "      <td>hello mom mere c sec ko 1 month 20 day ho gayi...</td>\n",
              "      <td>mother</td>\n",
              "      <td>General Pregnancy</td>\n",
              "    </tr>\n",
              "    <tr>\n",
              "      <th>24</th>\n",
              "      <td>132</td>\n",
              "      <td>hii mere baby ko zukam aur kansi hai kya ye ce...</td>\n",
              "      <td>mother</td>\n",
              "      <td>General Pregnancy</td>\n",
              "    </tr>\n",
              "    <tr>\n",
              "      <th>25</th>\n",
              "      <td>133</td>\n",
              "      <td>accidentally touch report pregnancy undo</td>\n",
              "      <td>ttc</td>\n",
              "      <td>General Pregnancy</td>\n",
              "    </tr>\n",
              "    <tr>\n",
              "      <th>26</th>\n",
              "      <td>134</td>\n",
              "      <td>blessed baby girl via section</td>\n",
              "      <td>mother</td>\n",
              "      <td>Announcements&amp;Celebrations</td>\n",
              "    </tr>\n",
              "    <tr>\n",
              "      <th>27</th>\n",
              "      <td>135</td>\n",
              "      <td>page update nhi ho raha h purane question show...</td>\n",
              "      <td>pregnant</td>\n",
              "      <td>MyloSupport</td>\n",
              "    </tr>\n",
              "    <tr>\n",
              "      <th>28</th>\n",
              "      <td>136</td>\n",
              "      <td>hello sister 7th month n done growth scan toda...</td>\n",
              "      <td>mother</td>\n",
              "      <td>General Pregnancy</td>\n",
              "    </tr>\n",
              "    <tr>\n",
              "      <th>29</th>\n",
              "      <td>137</td>\n",
              "      <td>pls provide option login computer</td>\n",
              "      <td>ttc</td>\n",
              "      <td>General Pregnancy</td>\n",
              "    </tr>\n",
              "    <tr>\n",
              "      <th>30</th>\n",
              "      <td>138</td>\n",
              "      <td>wanna remove mobile profile</td>\n",
              "      <td>pregnant</td>\n",
              "      <td>Love&amp;Relationships</td>\n",
              "    </tr>\n",
              "    <tr>\n",
              "      <th>31</th>\n",
              "      <td>139</td>\n",
              "      <td>video playing</td>\n",
              "      <td>pregnant</td>\n",
              "      <td>MyloSupport</td>\n",
              "    </tr>\n",
              "    <tr>\n",
              "      <th>32</th>\n",
              "      <td>140</td>\n",
              "      <td>blassed baby boy normal delivery thans mylo mo...</td>\n",
              "      <td>mother</td>\n",
              "      <td>Announcements&amp;Celebrations</td>\n",
              "    </tr>\n",
              "    <tr>\n",
              "      <th>33</th>\n",
              "      <td>141</td>\n",
              "      <td>unable upload profile pic</td>\n",
              "      <td>pregnant</td>\n",
              "      <td>MyloSupport</td>\n",
              "    </tr>\n",
              "  </tbody>\n",
              "</table>\n",
              "</div>"
            ],
            "text/plain": [
              "    post_id  ...                         tag\n",
              "0        75  ...                 MyloSupport\n",
              "1        90  ...           General Pregnancy\n",
              "2        94  ...                      Gossip\n",
              "3       102  ...                General Baby\n",
              "4       108  ...                General Baby\n",
              "5       109  ...              Diet&Nutrition\n",
              "6       112  ...           General Pregnancy\n",
              "7       113  ...           General Pregnancy\n",
              "8       114  ...              Diet&Nutrition\n",
              "9       115  ...           General Pregnancy\n",
              "10      117  ...           General Pregnancy\n",
              "11      118  ...                General Baby\n",
              "12      119  ...           General Pregnancy\n",
              "13      120  ...              Diet&Nutrition\n",
              "14      121  ...          Love&Relationships\n",
              "15      122  ...                General Baby\n",
              "16      123  ...  Announcements&Celebrations\n",
              "17      124  ...          Love&Relationships\n",
              "18      125  ...  Announcements&Celebrations\n",
              "19      126  ...           General Pregnancy\n",
              "20      128  ...           General Pregnancy\n",
              "21      129  ...                 MyloSupport\n",
              "22      130  ...                General Baby\n",
              "23      131  ...           General Pregnancy\n",
              "24      132  ...           General Pregnancy\n",
              "25      133  ...           General Pregnancy\n",
              "26      134  ...  Announcements&Celebrations\n",
              "27      135  ...                 MyloSupport\n",
              "28      136  ...           General Pregnancy\n",
              "29      137  ...           General Pregnancy\n",
              "30      138  ...          Love&Relationships\n",
              "31      139  ...                 MyloSupport\n",
              "32      140  ...  Announcements&Celebrations\n",
              "33      141  ...                 MyloSupport\n",
              "\n",
              "[34 rows x 4 columns]"
            ]
          },
          "metadata": {
            "tags": []
          },
          "execution_count": 27
        }
      ]
    },
    {
      "cell_type": "code",
      "metadata": {
        "id": "O0tkbX5B6-VK",
        "colab_type": "code",
        "colab": {}
      },
      "source": [
        "test.to_csv(\"ruchika.jangir.met16.csv\")"
      ],
      "execution_count": 0,
      "outputs": []
    },
    {
      "cell_type": "code",
      "metadata": {
        "id": "dnJztELc7kS6",
        "colab_type": "code",
        "outputId": "918fc06f-cbbc-4633-d440-cd6a6bf3afc4",
        "colab": {
          "base_uri": "https://localhost:8080/",
          "height": 34
        }
      },
      "source": [
        "test.shape"
      ],
      "execution_count": 29,
      "outputs": [
        {
          "output_type": "execute_result",
          "data": {
            "text/plain": [
              "(34, 4)"
            ]
          },
          "metadata": {
            "tags": []
          },
          "execution_count": 29
        }
      ]
    }
  ]
}